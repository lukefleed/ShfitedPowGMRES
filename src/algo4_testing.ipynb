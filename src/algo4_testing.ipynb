{
 "cells": [
  {
   "cell_type": "code",
   "execution_count": 1,
   "metadata": {},
   "outputs": [],
   "source": [
    "import numpy as np\n",
    "import networkx as nx\n",
    "import time\n",
    "import math\n",
    "import pandas as pd\n",
    "import scipy as sp\n",
    "import plotly.express as px\n",
    "import plotly.graph_objs as go\n",
    "from scipy.sparse import *\n",
    "from scipy import linalg\n",
    "from scipy.sparse.linalg import norm\n",
    "from scipy.optimize import least_squares"
   ]
  },
  {
   "cell_type": "markdown",
   "metadata": {},
   "source": [
    "This function is needed in the algorithm. Note that this is a NON-functioning version, for now it's just a place holder. When algo2_testing will be completed, this will be updated and I'll work on algo4_testing."
   ]
  },
  {
   "cell_type": "code",
   "execution_count": null,
   "metadata": {},
   "outputs": [],
   "source": [
    "def Arnoldi(A, v, m): #  defined ad algorithm 2 in the paper\n",
    "    beta = norm(v)\n",
    "    print(\"A\")\n",
    "    v = v/beta\n",
    "    print(\"B\")\n",
    "    h = sp.sparse.lil_matrix((m,m))\n",
    "    print(\"C\")\n",
    "\n",
    "    for j in range(m):\n",
    "        w = A.dot(v)\n",
    "        print(\"D\")\n",
    "        for i in range(j):\n",
    "            h[i,j] = v.T.dot(w)\n",
    "            print(\"E\")\n",
    "            w = w - h[i,j]*v[i]\n",
    "            print(\"F\")\n",
    "\n",
    "        h[j+1,j] = norm(w)\n",
    "        print(\"G\")\n",
    "\n",
    "        if h[j+1,j] == 0:\n",
    "            print(\"The algorithm didn't converge\")\n",
    "            m = j\n",
    "            v[m+1] = 0\n",
    "            break\n",
    "        else:\n",
    "            print(\"H\")\n",
    "            v[j+1] = w**h[j+1,j] # THIS IS WRONG, I DON'T KNOW HOW TO FIX IT. ERROR \" matrix is not square\"\n",
    "            print(\"I\")\n",
    "\n",
    "    return v, h, m, beta, j"
   ]
  },
  {
   "cell_type": "markdown",
   "metadata": {},
   "source": [
    "## Algorithm 4 testing\n",
    "\n",
    "Still a complete mess. Conceptually and technically wrong. I'll work on it when algo2_testing will be completed."
   ]
  },
  {
   "cell_type": "code",
   "execution_count": 2,
   "metadata": {},
   "outputs": [],
   "source": [
    "def Algo4(Pt, v, m, a: list, tau, maxit: int, x):\n",
    "    \n",
    "    iter = 1\n",
    "    mv = 0\n",
    "    e1 = sp.sparse.lil_matrix((1,n))\n",
    "    e1[0,0] = 1\n",
    "    x = sp.sparse.lil_matrix((len(a),1))\n",
    "    I = sp.sparse.eye(n, n, format='lil')\n",
    "    res = sp.sparse.lil_matrix((len(a),1))\n",
    "    r = sp.sparse.lil_matrix((n,1))\n",
    "    y = sp.sparse.lil_matrix((n,1))\n",
    "\n",
    "    for i in range(len(a)): # I don't think that this is what was intended in the pseudocode... \n",
    "        r = ((1-a[i])**a[i])*v - ((1**a[i])*I - Pt).dot(x)\n",
    "        res[i] = a[i]*norm(r)\n",
    "\n",
    "    def Find_k(res, maxit):\n",
    "        k = 0\n",
    "        for i in range(len(a)):\n",
    "            if res[i] == max(res):\n",
    "                k = i\n",
    "                break\n",
    "        return k\n",
    "\n",
    "    def Find_gamma(res, a, k):\n",
    "        gamma = sp.sparse.lil_matrix((len(a),1))\n",
    "        for i in range(len(a)):\n",
    "            if i != k:\n",
    "                gamma[i] = (res[i]*a[k])/(res[k]*a[i])\n",
    "            else:\n",
    "                gamma[i] = 0\n",
    "        return gamma\n",
    "\n",
    "\n",
    "    while max(res) > tau and iter < maxit:\n",
    "        k = Find_k(res, maxit)\n",
    "        gamma = Find_gamma(res, a, k)\n",
    "        v, h, m, beta, j = Arnoldi((1**a[k])*I - Pt, r, m)\n",
    "        Hbar = sp.sparse.lil_matrix((m+1,m))\n",
    "        Hbar[0:m,0:m] = h\n",
    "        Hbar[m+1,0:m] = e1\n",
    "\n",
    "        mv += j\n",
    "\n",
    "        y = sp.sparse.linalg.least_squares(Hbar, beta*e1)\n",
    "        res[k] = a[k]*norm(beta*e1 - Hbar*y)\n",
    "        x[k] = x[k] + v*y[k]\n",
    "\n",
    "        for i in range(len(a)):\n",
    "            if i != k:\n",
    "                if res[i] >= tau:\n",
    "                    Hbar[i] = Hbar[k] + ((1-a[i])/a[i] - (1-a[k])/a[k])*I\n",
    "                    z  = beta*e1 - Hbar*y\n",
    "                    y = sp.sparse.linalg.solve(Hbar, gamma*beta*e1)\n",
    "                    x = x + v*y\n",
    "                    res[i] = a[i]**a[k]*gamma[i]*res[k]\n",
    "        \n",
    "        iter += 1\n",
    "        \n",
    "    return x, res, mv\n"
   ]
  }
 ],
 "metadata": {
  "kernelspec": {
   "display_name": "Python 3.10.6 64-bit",
   "language": "python",
   "name": "python3"
  },
  "language_info": {
   "codemirror_mode": {
    "name": "ipython",
    "version": 3
   },
   "file_extension": ".py",
   "mimetype": "text/x-python",
   "name": "python",
   "nbconvert_exporter": "python",
   "pygments_lexer": "ipython3",
   "version": "3.10.6"
  },
  "orig_nbformat": 4,
  "vscode": {
   "interpreter": {
    "hash": "916dbcbb3f70747c44a77c7bcd40155683ae19c65e1c03b4aa3499c5328201f1"
   }
  }
 },
 "nbformat": 4,
 "nbformat_minor": 2
}
