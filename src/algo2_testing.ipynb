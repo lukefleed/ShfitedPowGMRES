{
 "cells": [
  {
   "cell_type": "code",
   "execution_count": 3,
   "metadata": {},
   "outputs": [],
   "source": [
    "import numpy as np\n",
    "import networkx as nx\n",
    "import time\n",
    "import math\n",
    "import pandas as pd\n",
    "import scipy as sp\n",
    "import plotly.express as px\n",
    "import plotly.graph_objs as go\n",
    "from scipy.sparse import *\n",
    "from scipy import linalg\n",
    "from scipy.sparse.linalg import norm\n",
    "from scipy.optimize import least_squares"
   ]
  },
  {
   "cell_type": "markdown",
   "metadata": {},
   "source": [
    "# Algorithm 2 testing"
   ]
  },
  {
   "cell_type": "code",
   "execution_count": 86,
   "metadata": {},
   "outputs": [],
   "source": [
    "def Arnoldi(A, v, m): \n",
    "    beta = norm(v)\n",
    "    v = v/beta \n",
    "    h = sp.sparse.lil_matrix((m,m)) \n",
    "\n",
    "    for j in range(m):\n",
    "        w = A @ v  \n",
    "        for i in range(j):\n",
    "            tmp = v.T @ w  \n",
    "            h[i,j] = tmp[0,0]\n",
    "            w = w - h[i,j]*v \n",
    "        h[j,j-1] = norm(w) \n",
    "\n",
    "        if h[j,j-1] == 0: \n",
    "            print(\"Arnoldi breakdown\")\n",
    "            m = j\n",
    "            v = 0\n",
    "            break\n",
    "        else:\n",
    "            v = w/h[j,j-1] \n",
    "        \n",
    "    print(\"Arnoldi finished\\n\")\n",
    "    print(\"h is \", h.shape)\n",
    "    print(\"v is \", v.shape)\n",
    "    print(\"m is \", m)\n",
    "    print(\"beta is \", beta)\n",
    "    return v, h, m, beta, j # this is not the output required in the paper, I should return the matrix V and the matrix H\n"
   ]
  },
  {
   "cell_type": "markdown",
   "metadata": {},
   "source": [
    "Creating a small test case"
   ]
  },
  {
   "cell_type": "code",
   "execution_count": 82,
   "metadata": {},
   "outputs": [],
   "source": [
    "m = 100\n",
    "A = sp.sparse.rand(m,m, density=0.5, format='lil')\n",
    "v = sp.sparse.rand(m,1, density=0.5, format='lil')"
   ]
  },
  {
   "cell_type": "code",
   "execution_count": 87,
   "metadata": {},
   "outputs": [
    {
     "name": "stdout",
     "output_type": "stream",
     "text": [
      "Arnoldi finished\n",
      "\n",
      "h is  (100, 100)\n",
      "v is  (100, 1)\n",
      "m is  100\n",
      "beta is  1.0\n"
     ]
    }
   ],
   "source": [
    "v, h, m, beta, j = Arnoldi(A, v, m)"
   ]
  }
 ],
 "metadata": {
  "kernelspec": {
   "display_name": "Python 3.10.6 64-bit",
   "language": "python",
   "name": "python3"
  },
  "language_info": {
   "codemirror_mode": {
    "name": "ipython",
    "version": 3
   },
   "file_extension": ".py",
   "mimetype": "text/x-python",
   "name": "python",
   "nbconvert_exporter": "python",
   "pygments_lexer": "ipython3",
   "version": "3.10.6"
  },
  "orig_nbformat": 4,
  "vscode": {
   "interpreter": {
    "hash": "916dbcbb3f70747c44a77c7bcd40155683ae19c65e1c03b4aa3499c5328201f1"
   }
  }
 },
 "nbformat": 4,
 "nbformat_minor": 2
}
